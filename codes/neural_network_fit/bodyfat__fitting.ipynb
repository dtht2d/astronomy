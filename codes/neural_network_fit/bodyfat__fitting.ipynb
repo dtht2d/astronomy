{
  "nbformat": 4,
  "nbformat_minor": 0,
  "metadata": {
    "colab": {
      "provenance": [],
      "authorship_tag": "ABX9TyNdaJchsqLCi5pgDtTgVx0Y",
      "include_colab_link": true
    },
    "kernelspec": {
      "name": "python3",
      "display_name": "Python 3"
    },
    "language_info": {
      "name": "python"
    }
  },
  "cells": [
    {
      "cell_type": "markdown",
      "metadata": {
        "id": "view-in-github",
        "colab_type": "text"
      },
      "source": [
        "<a href=\"https://colab.research.google.com/github/dtht2d/astronomy/blob/main/codes/neural_network_fit/bodyfat__fitting.ipynb\" target=\"_parent\"><img src=\"https://colab.research.google.com/assets/colab-badge.svg\" alt=\"Open In Colab\"/></a>"
      ]
    },
    {
      "cell_type": "markdown",
      "source": [
        "# **Objective**\n",
        "---\n",
        "- Create similarity **nftool** (MATLAB's Neural NEtwork Toolbox) function in Python\n",
        "- Observe the output by changing the training/validation/testing percentages and the number of neurons. "
      ],
      "metadata": {
        "id": "WriLcXvXcpF2"
      }
    },
    {
      "cell_type": "code",
      "execution_count": null,
      "metadata": {
        "id": "P_j9vbhjcFU4"
      },
      "outputs": [],
      "source": []
    }
  ]
}