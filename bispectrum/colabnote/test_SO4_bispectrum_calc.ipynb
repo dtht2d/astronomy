{
  "nbformat": 4,
  "nbformat_minor": 0,
  "metadata": {
    "colab": {
      "provenance": [],
      "authorship_tag": "ABX9TyPvJGfxmi/o4rKDdjfTtRiT",
      "include_colab_link": true
    },
    "kernelspec": {
      "name": "python3",
      "display_name": "Python 3"
    },
    "language_info": {
      "name": "python"
    }
  },
  "cells": [
    {
      "cell_type": "markdown",
      "metadata": {
        "id": "view-in-github",
        "colab_type": "text"
      },
      "source": [
        "<a href=\"https://colab.research.google.com/github/dtht2d/astronomy/blob/main/bispectrum/colabnote/test_SO4_bispectrum_calc.ipynb\" target=\"_parent\"><img src=\"https://colab.research.google.com/assets/colab-badge.svg\" alt=\"Open In Colab\"/></a>"
      ]
    },
    {
      "cell_type": "markdown",
      "source": [
        "# **Function Compute Bispectrum Component**: "
      ],
      "metadata": {
        "id": "7j8dPdxigiY9"
      }
    },
    {
      "cell_type": "code",
      "source": [
        "%autosave 30"
      ],
      "metadata": {
        "colab": {
          "base_uri": "https://localhost:8080/",
          "height": 35
        },
        "id": "P67jn-p7gQfy",
        "outputId": "83174ac3-2e57-450f-a897-7fcdf2d981fe"
      },
      "execution_count": 2,
      "outputs": [
        {
          "output_type": "display_data",
          "data": {
            "application/javascript": [
              "IPython.notebook.set_autosave_interval(30000)"
            ]
          },
          "metadata": {}
        },
        {
          "output_type": "stream",
          "name": "stdout",
          "text": [
            "Autosaving every 30 seconds\n"
          ]
        }
      ]
    },
    {
      "cell_type": "code",
      "source": [
        "!pip install biopython"
      ],
      "metadata": {
        "colab": {
          "base_uri": "https://localhost:8080/"
        },
        "id": "hPYPDj-rgzD-",
        "outputId": "121de7f2-0607-47e1-d286-ab02290dfec4"
      },
      "execution_count": 3,
      "outputs": [
        {
          "output_type": "stream",
          "name": "stdout",
          "text": [
            "Looking in indexes: https://pypi.org/simple, https://us-python.pkg.dev/colab-wheels/public/simple/\n",
            "Collecting biopython\n",
            "  Downloading biopython-1.81-cp39-cp39-manylinux_2_17_x86_64.manylinux2014_x86_64.whl (3.1 MB)\n",
            "\u001b[2K     \u001b[90m━━━━━━━━━━━━━━━━━━━━━━━━━━━━━━━━━━━━━━━━\u001b[0m \u001b[32m3.1/3.1 MB\u001b[0m \u001b[31m38.6 MB/s\u001b[0m eta \u001b[36m0:00:00\u001b[0m\n",
            "\u001b[?25hRequirement already satisfied: numpy in /usr/local/lib/python3.9/dist-packages (from biopython) (1.22.4)\n",
            "Installing collected packages: biopython\n",
            "Successfully installed biopython-1.81\n"
          ]
        }
      ]
    },
    {
      "cell_type": "code",
      "source": [
        "pip install sympy"
      ],
      "metadata": {
        "colab": {
          "base_uri": "https://localhost:8080/"
        },
        "id": "4V5fq04Dg1zp",
        "outputId": "9bfdd3a7-44b9-4df2-b8b3-b53676e78641"
      },
      "execution_count": 4,
      "outputs": [
        {
          "output_type": "stream",
          "name": "stdout",
          "text": [
            "Looking in indexes: https://pypi.org/simple, https://us-python.pkg.dev/colab-wheels/public/simple/\n",
            "Requirement already satisfied: sympy in /usr/local/lib/python3.9/dist-packages (1.11.1)\n",
            "Requirement already satisfied: mpmath>=0.19 in /usr/local/lib/python3.9/dist-packages (from sympy) (1.3.0)\n"
          ]
        }
      ]
    },
    {
      "cell_type": "code",
      "source": [
        "!pip install numpy"
      ],
      "metadata": {
        "colab": {
          "base_uri": "https://localhost:8080/"
        },
        "id": "WHQTl7N7g8ZU",
        "outputId": "7fde0ed1-7986-402d-d95e-15bf97d9481f"
      },
      "execution_count": 5,
      "outputs": [
        {
          "output_type": "stream",
          "name": "stdout",
          "text": [
            "Looking in indexes: https://pypi.org/simple, https://us-python.pkg.dev/colab-wheels/public/simple/\n",
            "Requirement already satisfied: numpy in /usr/local/lib/python3.9/dist-packages (1.22.4)\n"
          ]
        }
      ]
    },
    {
      "cell_type": "code",
      "source": [
        "!pip install ipython-autotime\n",
        "%load_ext autotime"
      ],
      "metadata": {
        "colab": {
          "base_uri": "https://localhost:8080/"
        },
        "id": "HHVW06U-g1dV",
        "outputId": "1c622bbe-8cc5-46db-9800-4aa6a0e5d03c"
      },
      "execution_count": 6,
      "outputs": [
        {
          "output_type": "stream",
          "name": "stdout",
          "text": [
            "Looking in indexes: https://pypi.org/simple, https://us-python.pkg.dev/colab-wheels/public/simple/\n",
            "Collecting ipython-autotime\n",
            "  Downloading ipython_autotime-0.3.1-py2.py3-none-any.whl (6.8 kB)\n",
            "Requirement already satisfied: ipython in /usr/local/lib/python3.9/dist-packages (from ipython-autotime) (7.34.0)\n",
            "Requirement already satisfied: pexpect>4.3 in /usr/local/lib/python3.9/dist-packages (from ipython->ipython-autotime) (4.8.0)\n",
            "Requirement already satisfied: traitlets>=4.2 in /usr/local/lib/python3.9/dist-packages (from ipython->ipython-autotime) (5.7.1)\n",
            "Requirement already satisfied: prompt-toolkit!=3.0.0,!=3.0.1,<3.1.0,>=2.0.0 in /usr/local/lib/python3.9/dist-packages (from ipython->ipython-autotime) (3.0.38)\n",
            "Requirement already satisfied: backcall in /usr/local/lib/python3.9/dist-packages (from ipython->ipython-autotime) (0.2.0)\n",
            "Requirement already satisfied: pickleshare in /usr/local/lib/python3.9/dist-packages (from ipython->ipython-autotime) (0.7.5)\n",
            "Requirement already satisfied: decorator in /usr/local/lib/python3.9/dist-packages (from ipython->ipython-autotime) (4.4.2)\n",
            "Requirement already satisfied: matplotlib-inline in /usr/local/lib/python3.9/dist-packages (from ipython->ipython-autotime) (0.1.6)\n",
            "Requirement already satisfied: pygments in /usr/local/lib/python3.9/dist-packages (from ipython->ipython-autotime) (2.14.0)\n",
            "Collecting jedi>=0.16\n",
            "  Downloading jedi-0.18.2-py2.py3-none-any.whl (1.6 MB)\n",
            "\u001b[2K     \u001b[90m━━━━━━━━━━━━━━━━━━━━━━━━━━━━━━━━━━━━━━━━\u001b[0m \u001b[32m1.6/1.6 MB\u001b[0m \u001b[31m13.0 MB/s\u001b[0m eta \u001b[36m0:00:00\u001b[0m\n",
            "\u001b[?25hRequirement already satisfied: setuptools>=18.5 in /usr/local/lib/python3.9/dist-packages (from ipython->ipython-autotime) (67.6.1)\n",
            "Requirement already satisfied: parso<0.9.0,>=0.8.0 in /usr/local/lib/python3.9/dist-packages (from jedi>=0.16->ipython->ipython-autotime) (0.8.3)\n",
            "Requirement already satisfied: ptyprocess>=0.5 in /usr/local/lib/python3.9/dist-packages (from pexpect>4.3->ipython->ipython-autotime) (0.7.0)\n",
            "Requirement already satisfied: wcwidth in /usr/local/lib/python3.9/dist-packages (from prompt-toolkit!=3.0.0,!=3.0.1,<3.1.0,>=2.0.0->ipython->ipython-autotime) (0.2.6)\n",
            "Installing collected packages: jedi, ipython-autotime\n",
            "Successfully installed ipython-autotime-0.3.1 jedi-0.18.2\n",
            "time: 502 µs (started: 2023-04-13 21:27:36 +00:00)\n"
          ]
        }
      ]
    },
    {
      "cell_type": "markdown",
      "source": [
        "# Load data"
      ],
      "metadata": {
        "id": "jZ23XJV7l6DE"
      }
    },
    {
      "cell_type": "markdown",
      "source": [
        "**Input:** cif file\n",
        "- Set of data, neighbor list, it could be $x, y, z$ coordinate and convert to $\\theta_0, \\theta, \\phi$\n",
        "- Cell length (unit angstrom)\n",
        "Note: Chosen $R_{cut}$ needs to divide by the true cell length (i.e: with example dataset we need to divide by 18.7337) since (𝑥,𝑦,𝑧) are fraction with cell dimension (1,1,1), $R_i, R_k$ (center, neighbor): atom radius, measures from center of nucleus to the outermost isolated electron also so need to divide by\n",
        "-Atom type\n",
        "\n",
        "**Output:** .json file neighbor atoms list and important values for B calculation \n",
        "- Save neigbor atoms list for a choosen center atom as .json file (JSON is a simple and lightweight format for representing data)                         \n",
        "- ['atom_type', 'X', 'Y', 'Z', 'X_k', 'Y_k', 'Z_k', 'r_ik', 'theta_0', 'theta', 'phi', 'w_ik', 'delta'] \n",
        "- Neighbor list excludes center atom itself\n"
      ],
      "metadata": {
        "id": "zhCcfrFcmJFr"
      }
    },
    {
      "cell_type": "code",
      "execution_count": 28,
      "metadata": {
        "colab": {
          "base_uri": "https://localhost:8080/"
        },
        "id": "3CVY7NNBgH5M",
        "outputId": "056d314d-e557-45ea-b6cf-68c1f1aa66a6"
      },
      "outputs": [
        {
          "output_type": "stream",
          "name": "stdout",
          "text": [
            "time: 38.8 ms (started: 2023-04-13 21:48:03 +00:00)\n"
          ]
        }
      ],
      "source": [
        "import numpy as np\n",
        "import json\n",
        "import pandas as pd\n",
        "from Bio.PDB.MMCIF2Dict import MMCIF2Dict\n",
        "def get_INPUT_value(center_atom_id:int, r_mu, R_cut, input_file_path:str, output_directory:str, file_type:str):\n",
        "    \"\"\"\n",
        "    Parameters\n",
        "\n",
        "    \"\"\"\n",
        "    if file_type == \"cif\":\n",
        "        # DATA PREPARATION\n",
        "        dico = MMCIF2Dict(input_file_path)\n",
        "        df_cif = pd.DataFrame.from_dict(dico, orient='index')\n",
        "        x = df_cif.iloc[-3]\n",
        "        y = df_cif.iloc[-2]\n",
        "        z = df_cif.iloc[-1]\n",
        "        atom_type = df_cif.iloc[-4]\n",
        "        x_array = np.array(x[0], dtype=float)\n",
        "        y_array = np.array(y[0], dtype=float)\n",
        "        z_array = np.array(z[0], dtype=float)\n",
        "        atom_type_array = np.array(atom_type[0], dtype=str)\n",
        "        df = pd.DataFrame({\"atom_type\": atom_type_array, \"X\": x_array, \"Y\": y_array, \"Z\": z_array})\n",
        "        # Estimate list of potentially atoms in the center cell\n",
        "        id = center_atom_id\n",
        "        # id\n",
        "        x_i = df['X'].iloc[id]\n",
        "        y_i = df['Y'].iloc[id]\n",
        "        z_i = df['Z'].iloc[id]\n",
        "        # print(x_i,y_i,z_i)\n",
        "        X_array = df['X'].to_numpy()\n",
        "        Y_array = df['Y'].to_numpy()\n",
        "        Z_array = df['Z'].to_numpy()\n",
        "        X_k_array = X_array - x_i\n",
        "        Y_k_array = Y_array - y_i\n",
        "        Z_k_array = Z_array - z_i\n",
        "        r_ik = np.sqrt(np.square(X_k_array) + np.square(Y_k_array) + np.square(Z_k_array))\n",
        "        df['X_k'], df['Y_k'], df['Z_k'], df['r_ik'] = X_k_array, Y_k_array, Z_k_array, r_ik\n",
        "        # INPUT values\n",
        "        cell_length = df.iloc[4]  # index row start from 0 _cell_length_a at row 5 index [4]\n",
        "        #r_mu = 0.0779  # scale atomic radius w.r.t cell length\n",
        "        #R_cut = 0.25  # scaled value w.r.t cell length (for Si-Si case) \n",
        "        #exclude center atom\n",
        "        mask = (df['r_ik'] + r_mu) <= R_cut\n",
        "        mask &= df['r_ik'] != 0\n",
        "        df_ik = df[mask].copy(deep=True)\n",
        "        # ANGEL CONVERSION\n",
        "        # theta_0\n",
        "        r_ik_array = df_ik['r_ik'].to_numpy()  # r_ik from selected neighbors\n",
        "        r_0_array = np.full((r_ik_array.shape), R_cut)\n",
        "        theta_0_array = np.pi * (np.divide(r_ik_array, r_0_array))\n",
        "        # theta\n",
        "        Z_k_abs_array = np.abs(df_ik['Z_k'].to_numpy())\n",
        "        theta_array = np.arccos(np.divide(Z_k_abs_array, r_ik_array))\n",
        "        # phi\n",
        "        X_k_array = df_ik['X_k'].to_numpy()\n",
        "        Y_k_array = df_ik['Y_k'].to_numpy()\n",
        "        phi_array = np.arctan(np.divide(Y_k_array, X_k_array))\n",
        "        # convert angle to positive value between [0,2pi]\n",
        "        phi_array_convert = np.mod(phi_array, 2 * np.pi)\n",
        "        for angle in phi_array_convert:\n",
        "            if (angle >= 2 * np.pi) and (angle < 0):\n",
        "                raise ValueError('phi angle in between 0 and 2pi')\n",
        "        # replace NaN with 0: (code will have error for invalid value center atom values 0/0)_\n",
        "        df_ik['theta_0'] = theta_0_array\n",
        "        df_ik['theta_0'] = df_ik['theta_0'].replace(np.nan, 0)\n",
        "        df_ik['theta'] = theta_array\n",
        "        df_ik['theta'] = df_ik['theta'].replace(np.nan, 0)\n",
        "        df_ik['phi'] = phi_array_convert\n",
        "        df_ik['phi'] = df_ik['phi'].replace(np.nan, 0)\n",
        "        # array for weight coefficient w.r.t to atom type\n",
        "        w_ik_arr = np.full((r_ik_array.shape), 1)\n",
        "        # delta function delta=1 if i and k has the same element type, if not delta =0\n",
        "        delta = np.full((r_ik_array.shape), 0)\n",
        "        delta_arr = np.where(df_ik['atom_type'] == df_ik['atom_type'].iloc[0], 1, delta)\n",
        "        df_ik['w_ik'] = w_ik_arr\n",
        "        df_ik['delta'] = delta_arr\n",
        "    # save the DataFrame as a JSON file\n",
        "        neighbor_list_path = output_directory + '-atom-' + str(center_atom_id) + '-neighbor-list.json'\n",
        "        df_ik.to_json(neighbor_list_path, orient='records')\n",
        "        \"\"\"\n",
        "        This function is to read in the neighbor list file\n",
        "        \"\"\"\n",
        "        with open(neighbor_list_path, 'r') as f:\n",
        "            json_data = json.load(f)\n",
        "\n",
        "            # create a list of dictionaries from the JSON data\n",
        "            data_list = [dict(row) for row in json_data]\n",
        "\n",
        "            # extract data from the list of dictionaries\n",
        "            r_ik_array = np.array([float(row['r_ik']) for row in data_list])\n",
        "            theta_0_array = np.array([float(row['theta_0']) for row in data_list])\n",
        "            theta_array = np.array([float(row['theta']) for row in data_list])\n",
        "            phi_array = np.array([float(row['phi']) for row in data_list])\n",
        "            w_ik_array = np.array([float(row['w_ik']) for row in data_list])\n",
        "            delta_array = np.array([float(row['delta']) for row in data_list])\n",
        "            r_cut_array = np.full((r_ik_array.shape), R_cut)\n",
        "            # return a dictionary with the extracted data\n",
        "    else:\n",
        "        raise ValueError(f\"Unsupported file type: {file_type}\")\n",
        "    return {\n",
        "            'r_ik': r_ik_array,\n",
        "            'theta_0': theta_0_array,\n",
        "            'theta': theta_array,\n",
        "            'phi': phi_array,\n",
        "            'w_ik': w_ik_array,\n",
        "            'delta': delta_array,\n",
        "            'r_cut': r_cut_array\n",
        "        }\n"
      ]
    },
    {
      "cell_type": "markdown",
      "source": [
        "Example"
      ],
      "metadata": {
        "id": "98OPoGGJlGBQ"
      }
    },
    {
      "cell_type": "code",
      "source": [
        "from google.colab import drive\n",
        "drive.mount('/content/drive')"
      ],
      "metadata": {
        "colab": {
          "base_uri": "https://localhost:8080/"
        },
        "id": "vwxWmp7OlOJ-",
        "outputId": "8ad1a390-5a4a-4511-8ec1-42a4507d584f"
      },
      "execution_count": 29,
      "outputs": [
        {
          "output_type": "stream",
          "name": "stdout",
          "text": [
            "Drive already mounted at /content/drive; to attempt to forcibly remount, call drive.mount(\"/content/drive\", force_remount=True).\n",
            "time: 816 ms (started: 2023-04-13 21:48:06 +00:00)\n"
          ]
        }
      ]
    },
    {
      "cell_type": "code",
      "source": [
        "path = \"/content/drive/MyDrive/bispectrump_components/data/avgBL-Model.cif\""
      ],
      "metadata": {
        "colab": {
          "base_uri": "https://localhost:8080/"
        },
        "id": "OYLfegUalVxH",
        "outputId": "fa681ef2-d154-4dd8-971d-bb3ea16e72d5"
      },
      "execution_count": 30,
      "outputs": [
        {
          "output_type": "stream",
          "name": "stdout",
          "text": [
            "time: 493 µs (started: 2023-04-13 21:48:08 +00:00)\n"
          ]
        }
      ]
    },
    {
      "cell_type": "code",
      "source": [
        "center_atom_id = 17\n",
        "r_mu = 0.0779\n",
        "R_cut = 0.25\n",
        "input_file_path = path\n",
        "output_directory = '/content/drive/MyDrive/bispectrump_components/data/'\n",
        "#read data from file\n",
        "input_data = get_INPUT_value(center_atom_id, r_mu, R_cut, input_file_path, output_directory, file_type='cif')\n",
        "print(input_data)\n"
      ],
      "metadata": {
        "colab": {
          "base_uri": "https://localhost:8080/"
        },
        "id": "n0eeIET5lK_m",
        "outputId": "b11535b4-622e-42bf-f127-7ce5ec351b3a"
      },
      "execution_count": 31,
      "outputs": [
        {
          "output_type": "stream",
          "name": "stdout",
          "text": [
            "{'r_ik': array([0.16062009, 0.12295675, 0.12219716, 0.12619947, 0.11925231]), 'theta_0': array([2.01841164, 1.54512013, 1.53557477, 1.58586934, 1.49856872]), 'theta': array([0.69919773, 0.3820468 , 1.18488014, 1.25583529, 1.15492866]), 'phi': array([0.049713  , 1.25332279, 5.41038219, 1.13378905, 6.18181825]), 'w_ik': array([1., 1., 1., 1., 1.]), 'delta': array([1., 1., 1., 1., 1.]), 'r_cut': array([0.25, 0.25, 0.25, 0.25, 0.25])}\n",
            "time: 31.5 ms (started: 2023-04-13 21:48:09 +00:00)\n"
          ]
        }
      ]
    },
    {
      "cell_type": "markdown",
      "source": [
        "---\n",
        "# **Compute Bispectrum Component**\n"
      ],
      "metadata": {
        "id": "VClWmSrvmMtG"
      }
    },
    {
      "cell_type": "code",
      "source": [
        "import numpy as np\n",
        "import pandas as pd\n",
        "import cmath\n",
        "\n",
        "\n",
        "def fact(n):\n",
        "    \"\"\"\n",
        "    This function is used to calculate factorial of a number by using\n",
        "    an iterative approach instead of recursive approach\n",
        "    \"\"\"\n",
        "    return np.prod(np.arange(1, n + 1))\n",
        "class Wigner_D:\n",
        "    \"\"\"\n",
        "    Args:\n",
        "        j (scalar): angular momentum\n",
        "        m (scalar): eigenvalue of angular momentum\n",
        "        mp (scalar): eigenvalue of j along rotated axis\n",
        "        theta_0 (scalar): first angle of rotation [0, pi]\n",
        "        theta (scalar): second angle of rotation [0, pi]\n",
        "        phi (scalar): third angle of rotation [0, 2*pi]\n",
        "    Returns: complex number, Wigner D function\n",
        "    ==========================Reference==================================\n",
        "    [5] Chapter 4.3-(p.76,eq.1)  D.A. Varshalovich, A.N. Moskalev, V.K Khersonskii,\n",
        "        Quantum Theory of Angular Momentum (1988)\n",
        "    \"\"\"\n",
        "    def __init__(self, j, m, mp, theta_0, theta, phi):\n",
        "        if j < 0 or not np.isclose(j, int(j)) or (j % 1 == 0.5 and (m % 1 != 0 or mp % 1 != 0)):\n",
        "            raise ValueError(\"Invalid input parameters: j must be a non-negative integer or half-integer, \"\n",
        "                             \"m and mp must be between -j and j.\")\n",
        "        #if theta_0 < 0 or theta_0 > 2*np.pi or theta < 0 or theta > np.pi or phi < 0 or phi > 2 * np.pi:\n",
        "            raise ValueError(\"Invalid input parameters: theta_0, theta, and phi must be within [0, pi] and [0, 2pi], respectively.\")\n",
        "            \n",
        "        self.j = j\n",
        "        self.m = m\n",
        "        self.mp = mp\n",
        "        self.theta_0 = theta_0\n",
        "        self.theta = theta\n",
        "        self.phi = phi\n",
        "    def compute_dsmall(self):\n",
        "        \"\"\"\n",
        "        This method is used to calculate the Wigner d small- real function involving trigonometric functions\n",
        "        ==========================Reference==================================\n",
        "        [5] Chapter 4.3.1-(p.76,eq.4)  D.A. Varshalovich, A.N. Moskalev, V.K Khersonskii,\n",
        "        Returns: Wigner d - real function\n",
        "        \"\"\"\n",
        "        kmax = max(0, self.m - self.mp)\n",
        "        kmin = min(self.j + self.m, self.j - self.mp)\n",
        "        term1 = np.sqrt(fact(self.j + self.m) * fact(self.j - self.m) * fact(self.j + self.mp) * fact(self.j - self.mp))\n",
        "        sum = 0\n",
        "        for k in range(int(kmax), int(kmin) + 1):\n",
        "            numerator = (-1) ** k * (cmath.cos(self.theta / 2)) ** (2 * self.j - 2 * k + self.m - self.mp) * \\\n",
        "                        (cmath.sin(self.theta / 2)) ** (2 * k - self.m + self.mp)\n",
        "            denominator = fact(k) * fact(self.j + self.m - k) * fact(self.j - self.mp - k) * fact(self.mp - self.m + k)\n",
        "            sum += numerator / denominator\n",
        "        return sum*term1\n",
        "    def wigner_D(self):\n",
        "        #term1 = np.exp(-1j * self.m * self.theta_0)\n",
        "        term1 = np.cos(self.m * self.theta_0) - 1j*(np.sin(self.m * self.theta_0))\n",
        "        term2 = self.compute_dsmall()\n",
        "        #term3 = np.exp(-1j * self.mp * self.phi)\n",
        "        term3 = np.cos(self.mp * self.phi) -1j*(np.sin(self.mp * self.phi))\n",
        "        result = term1 * term2 * term3\n",
        "        return result\n",
        "    def U_rot(self):\n",
        "        '''\n",
        "        Parameters:\n",
        "        j: integer/half integer number angular momentum\n",
        "        m: integer/half integer number\n",
        "        Eigenvalue of angular momentum along rotated axis\n",
        "        mp: eigenvalue of j along rotated axis\n",
        "        mpp:\n",
        "        theta_0: fist angle of rotation [0,pi]\n",
        "        theta: second angle of rotation [0,pi]\n",
        "        phi: third angle of rotation [0,2pi]\n",
        "        rotational od a coordinate system through an angle theta_0\n",
        "        about an axis n(theta,phi)\n",
        "        Returns: Rotational matrix U\n",
        "        ==========================Reference==================================\n",
        "        [5] Chapter 4  D.A. Varshalovich, A.N. Moskalev, V.K Khersonskii,\n",
        "              Quantum Theory of Angular Momentum (1988)\n",
        "        '''\n",
        "        mpp_vals = np.linspace(-j, j, int(2*j+1))\n",
        "        U = 0\n",
        "        for mpp in mpp_vals:\n",
        "          WD_1 = Wigner_D(j, m, mpp, phi, theta, -phi)\n",
        "          term1 = WD_1.wigner_D()\n",
        "          term2 = np.cos(mpp * theta_0) - 1j*(np.sin(mpp * theta_0))\n",
        "          WD_2 = Wigner_D(j, mpp, mp, phi, -theta, -phi)\n",
        "          term3 = WD_2.wigner_D()\n",
        "          Um_mp = term1 * term2 * term3\n",
        "          U += Um_mp\n",
        "        return U\n",
        "\n",
        "class Clebsch_Gordan:\n",
        "    \"\"\"\n",
        "    Definition:\n",
        "    A Clebsch-Gordan coefficients are vector addition coefficients. They play an important role in decomposition of\n",
        "    reducible representations of rotation. Let j1 and j2 with projections on m1 and m2 on the quantization axis.\n",
        "    The coefficients represent the probability amplitude that j1 and j2 are coupled into a resultant angular momentum\n",
        "    j with projection m.\n",
        "    Args:\n",
        "        j1 (scalar): angular momentum\n",
        "        j2 (scalar): angular momentum\n",
        "        j (scalar): angular momentum\n",
        "        m1 (scalar): eigenvalue of angular momentum\n",
        "        m2 (scalar): eigenvalue of angular momentum\n",
        "        m (scalar): eigenvalue of angular momentum\n",
        "    Returns: complex number, Clebsh Gordan function\n",
        "    ==========================Reference==================================\n",
        "    [5] Chapter 8 D.A. Varshalovich, A.N. Moskalev, V.K Khersonskii,\n",
        "        Quantum Theory of Angular Momentum (1988)\n",
        "    [12] Chapter 3 Biedenharn, L., & Louck, J.D. ,\n",
        "        Encyclopedia of Mathematics and its Applications (1981)\n",
        "    \"\"\"\n",
        "    def __init__(self, j1, j2, j, m1, m2, m):\n",
        "        self.j1 = j1\n",
        "        self.j2 = j2\n",
        "        self.j = j\n",
        "        self.m1 = m1\n",
        "        self.m2 = m2\n",
        "        self.m = m\n",
        "        self.J = j1 + j2 + j\n",
        "        #Condition 1 & 2 & 5\n",
        "        if not (abs(j1 - j2) <= j <= j1 + j2 and m1 + m2 == m and j1 + j2 - j % 1 != 0.5):\n",
        "            raise ValueError(\"Invalid input parameters: j1, j2, j, m1, m2, and m must satisfy the triangle inequality.\\ \"\n",
        "                             \"j1+j2-j must not be a half-integer\")\n",
        "        #Condition 3 & 6\n",
        "        if not all(abs(x) <= y and (x % 0.5 == 0 or x % 1 == 0) for x, y in zip([m1, m2, m], [j1, j2, j])):\n",
        "            raise ValueError(\"Invalid input parameters: |m1| <= j1, |m_2| <= j2, |m| <= j\\ \"\n",
        "                             \"m1, m2, m must be integer or half-integer (positive or negative) numbers\")\n",
        "        # Condition 4\n",
        "        J =(j1+j2+j)\n",
        "        if J < (int(j1+j2+j)) and J <0:\n",
        "            raise ValueError(\"Invalid input parameters: j1, j2, j must not exceed a positive integer J\")\n",
        "        # Condition 7\n",
        "        if not all(\n",
        "                isinstance(x, (int, float, np.integer, np.floating)) and x >= 0 and (x % 0.5 == 0 or x % 1 == 0) for x\n",
        "                in [j1, j2, j]):\n",
        "            raise ValueError(\n",
        "                \"Invalid input parameters: j1, j2, j must be integer or half-integer non-negative numbers\")\n",
        "        # Condition 8\n",
        "        if not all(isinstance(x, (int, float, np.integer, np.floating)) and x >= 0 and x % 1 == 0 for x in\n",
        "                   [j1 + m1, j2 + m2, j + m, j1 + j2 + j]):\n",
        "            raise ValueError(\"Invalid input parameters: j1+m1,j2+m2,j+m,j1+j2+j must be integer non-negative numbers\")\n",
        "    def cg(self):\n",
        "        if self.m1 + self.m2 != self.m:\n",
        "            return 0.0  # delta function fails\n",
        "        prefactor = cmath.sqrt((2 * self.j + 1) * fact(self.j + self.j1 - self.j2) * fact(self.j-self.j1 + self.j2) \\\n",
        "                               * fact(self.j1 + self.j2 - self.j) / fact(self.j + self.j1 + self.j2 + 1))\n",
        "        coefficient = cmath.sqrt(fact(self.j + self.m) * fact(self.j - self.m) / (fact(self.j1 + self.m1) \\\n",
        "                               * fact(self.j1 - self.m1) * fact(self.j2 + self.m2) * fact(self.j2 - self.m2)))\n",
        "        sum = 0.0\n",
        "        smin= max(0, int(self.m1-self.j1),int(self.j2-self.j1+self.m))\n",
        "        smax= min(int(self.j2+self.j+self.m1),int(self.j-self.j1+self.j2),\\\n",
        "                   int(self.j+self.m))\n",
        "\n",
        "        for s in range(smin,smax+1):\n",
        "            den = fact(s) * fact(self.j - self.j1 + self.j2 - s) * fact(self.j + self.m - s) \\\n",
        "                  * fact(self.j1 - self.j2 - self.m + s)\n",
        "            num = ((-1) ** (self.j2 + self.m2 + s))* fact(self.j2 + self.j + self.m1 - s) * fact(self.j1 - self.m1 + s)\n",
        "            sum += num / den\n",
        "        cg = prefactor * coefficient * sum\n",
        "        return cg\n",
        "def H_coeff(j1,j2,j,m1,m2,m,m1p,m2p,mp):\n",
        "    '''\n",
        "    This function calculate coupling coefficient H via computing\n",
        "    the Clebsch-Gordan coefficient for cg(j1,m1,j2,m2,j,m)\n",
        "    and cg(j1,m1p,j2,m2p,j,mp)\n",
        "    Parameters:\n",
        "        j1: angular momentum 1\n",
        "        j2: angular momentum 2\n",
        "        j: total angular momentum (j1+j2)\n",
        "        m1: eigenvalue of angular momentum j1\n",
        "        m2: eigenvalue of angular momentum j2\n",
        "        m: eigenvalue of angular momentum j\n",
        "        m1p: eigenvalue of j1 along rotated axis\n",
        "        m2p: eigenvalue of j2 along rotated axis\n",
        "        mp: eigenvalue of j along rotated axis\n",
        "    Returns: Coupling coefficient H(j1,j2,j,m1,m2,m.m1p,m2p,mp)\n",
        "    ======================Reference=========================\n",
        "    [1] Thompson, Swiler, Trott, Foiles, Tucker,\n",
        "        Spectral neighbor analysis method for automated generation of quantum-accurate interatomic potentials (2015)\n",
        "    [5] Chapter 8  D.A. Varshalovich, A.N. Moskalev, V.K Khersonskii,\n",
        "        Quantum Theory of Angular Momentum (1988)\n",
        "    '''\n",
        "    CG = Clebsch_Gordan(j1,j2,j,m1,m2,m)\n",
        "    cg = CG.cg()\n",
        "    CGp = Clebsch_Gordan(j1,j2,j,m1p,m2p,mp)\n",
        "    cg_p = CGp.cg()\n",
        "    H = (cg)*(cg_p)\n",
        "    return H\n",
        "\n",
        "class Bispectrum:\n",
        "    \"\"\"\n",
        "    Calculate bispectrum components\n",
        "    \"\"\"\n",
        "    def __init__(self, j, j1, j2, input_data):\n",
        "        '''\n",
        "            j: j index\n",
        "            j1: j1 index\n",
        "            j2: j2 index\n",
        "            input_data: input data dictionary with extracted values:\n",
        "            r_ik (array): dictance from center atom to n neighbor atom, dim = [n,]\n",
        "            theta_0 (array): first angle of rotation [0, pi] , dim = [n,]\n",
        "            theta (array): second angle of rotation [0, pi], dim = [n,]\n",
        "            phi (array): third angle of rotation [0, 2pi], dim = [n,]\n",
        "            w_ik (array): weight coefficient, dim = [n,]\n",
        "            delta (array): delta function, dim = [n,]\n",
        "            r_cut (array): cutoff distance, dim = [n,]\n",
        "        '''\n",
        "        self.j = j\n",
        "        self.j1 = j1\n",
        "        self.j2 = j2\n",
        "        self.input_val = input_data #dictionary with values\n",
        "\n",
        "        #Condition check\n",
        "        if not (abs(j1 - j2) <= j <= j1 + j2 and j1 + j2 - j % 1 != 0.5):\n",
        "            raise ValueError(\"Invalid input parameters: j1, j2, j must satisfy the triangle inequality.\\ \"\n",
        "                             \"j1+j2-j must not be a half-integer\")\n",
        "        J = (j1 + j2 + j)\n",
        "        if J < (int(j1 + j2 + j)) and J < 0:\n",
        "            raise ValueError(\"Invalid input parameters: j1, j2, j must not exceed a positive integer J\")\n",
        "\n",
        "        "
      ],
      "metadata": {
        "colab": {
          "base_uri": "https://localhost:8080/"
        },
        "id": "pFX1HDblhflZ",
        "outputId": "b126fad7-d73c-4aa3-abdd-7699bbd9d012"
      },
      "execution_count": 16,
      "outputs": [
        {
          "output_type": "stream",
          "name": "stdout",
          "text": [
            "time: 3.73 ms (started: 2023-04-13 21:44:02 +00:00)\n"
          ]
        }
      ]
    },
    {
      "cell_type": "code",
      "source": [
        "j=2\n",
        "m=1\n",
        "mp=1\n",
        "theta_0=np.pi/6\n",
        "theta=4*np.pi/3\n",
        "phi=np.pi/2\n",
        "wD = Wigner_D(j,m,mp,theta_0,theta,phi)\n",
        "U = wD.U_rot()\n",
        "\n",
        "print(U)"
      ],
      "metadata": {
        "colab": {
          "base_uri": "https://localhost:8080/"
        },
        "id": "vBEUYmStkG3O",
        "outputId": "4bb3dd04-9543-43cb-ca98-5432e0ce595b"
      },
      "execution_count": 17,
      "outputs": [
        {
          "output_type": "stream",
          "name": "stdout",
          "text": [
            "(0.7321313509461094+0.1997595264191645j)\n",
            "time: 8.24 ms (started: 2023-04-13 21:44:07 +00:00)\n"
          ]
        }
      ]
    },
    {
      "cell_type": "markdown",
      "source": [
        "Example"
      ],
      "metadata": {
        "id": "nI74Iyj-kB71"
      }
    }
  ]
}